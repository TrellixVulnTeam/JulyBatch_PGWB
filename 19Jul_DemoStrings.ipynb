{
 "cells": [
  {
   "cell_type": "heading",
   "metadata": {
    "collapsed": true
   },
   "level": 1,
   "source": [
    "In Python 3, all strings are represented in Unicode. In Python 2 are stored internally as 8-\n",
    "bit ASCII, hence it is required to attach 'u' to make it Unicode. It is no longer necessary\n",
    "now."
   ]
  },
  {
   "cell_type": "code",
   "execution_count": 14,
   "metadata": {},
   "outputs": [
    {
     "name": "stdout",
     "output_type": "stream",
     "text": [
      "p\nWelcome to\n python\nme to python\nWelcome to pythonWelcome to pythonWelcome to python\n----------------------------------------------------------------------------------------------------\nWelcome to pythonSession\no\n"
     ]
    }
   ],
   "source": [
    "strVar = \"Welcome to python\"\n",
    "strVar2 = 'Session'\n",
    "\n",
    "print(strVar[11])\n",
    "print(strVar[:10])\n",
    "print(strVar[10:])\n",
    "print(strVar[5:50])\n",
    "print(strVar * 3)\n",
    "print('-' * 100)\n",
    "print(strVar + strVar2)\n",
    "print(strVar2[-2])\n"
   ]
  },
  {
   "cell_type": "heading",
   "metadata": {},
   "level": 1,
   "source": []
  },
  {
   "cell_type": "code",
   "execution_count": 16,
   "metadata": {},
   "outputs": [
    {
     "name": "stdout",
     "output_type": "stream",
     "text": [
      "Capitalize : Welcome to python\n"
     ]
    }
   ],
   "source": [
    "strVar = 'welcome to python'\n",
    "print(\"Capitalize :\", strVar.capitalize())"
   ]
  },
  {
   "cell_type": "heading",
   "metadata": {},
   "level": 1,
   "source": [
    "center(width, fillchar)\n",
    "Returns a string padded with fillchar with the original string centered to a total\n",
    "of width columns."
   ]
  },
  {
   "cell_type": "code",
   "execution_count": 20,
   "metadata": {
    "collapsed": false
   },
   "outputs": [
    {
     "data": {
      "text/plain": [
       "'                      Hello                       '"
      ]
     },
     "execution_count": 20,
     "metadata": {},
     "output_type": "execute_result"
    }
   ],
   "source": [
    "strVar = 'Hello'\n",
    "strVar.center(50, ' ')"
   ]
  },
  {
   "cell_type": "heading",
   "metadata": {},
   "level": 1,
   "source": [
    "count(str, beg= 0,end=len(string))\n",
    "Counts how many times str occurs in string or in a substring of string if starting\n",
    "index beg and ending index end are given."
   ]
  },
  {
   "cell_type": "code",
   "execution_count": 23,
   "metadata": {},
   "outputs": [
    {
     "name": "stdout",
     "output_type": "stream",
     "text": [
      "4\n2\n"
     ]
    }
   ],
   "source": [
    "strVar = 'Welcome to Python Session'\n",
    "print(strVar.count('o'))\n",
    "print(strVar.count('o', 0, 10))"
   ]
  },
  {
   "cell_type": "code",
   "execution_count": null,
   "metadata": {},
   "outputs": [],
   "source": [
    "endswith(suffix, beg=0, end=len(string))\n",
    "startswith(suffix, beg=0, end=len(string))"
   ]
  },
  {
   "cell_type": "code",
   "execution_count": 37,
   "metadata": {
    "collapsed": true
   },
   "outputs": [
    {
     "data": {
      "text/plain": [
       "False"
      ]
     },
     "execution_count": 37,
     "metadata": {},
     "output_type": "execute_result"
    }
   ],
   "source": [
    "strVar = 'Welcome to Python Session'\n",
    "strVar.startswith('to', 8)\n",
    "strVar.startswith('to', 10)\n",
    "strVar.endswith('sion')"
   ]
  },
  {
   "cell_type": "heading",
   "metadata": {},
   "level": 1,
   "source": [
    "find(str, beg=0 end=len(string))\n",
    "Determine if str occurs in string or in a substring of string if starting index beg\n",
    "and ending index end are given returns index if found and -1 otherwise."
   ]
  },
  {
   "cell_type": "code",
   "execution_count": 41,
   "metadata": {},
   "outputs": [
    {
     "data": {
      "text/plain": [
       "-1"
      ]
     },
     "execution_count": 41,
     "metadata": {},
     "output_type": "execute_result"
    }
   ],
   "source": [
    "strVar.find('z')"
   ]
  },
  {
   "cell_type": "heading",
   "metadata": {},
   "level": 1,
   "source": [
    "isalnum()\n",
    "Returns true if string has at least 1 character and all characters are\n",
    "alphanumeric and false otherwise.\n"
   ]
  },
  {
   "cell_type": "heading",
   "metadata": {},
   "level": 1,
   "source": [
    "index(str, beg=0, end=len(string))\n",
    "Same as find(), but raises an exception if str not found."
   ]
  },
  {
   "cell_type": "code",
   "execution_count": 40,
   "metadata": {},
   "outputs": [
    {
     "ename": "ValueError",
     "evalue": "substring not found",
     "traceback": [
      "\u001b[1;31m---------------------------------------------------------------------------\u001b[0m",
      "\u001b[1;31mValueError\u001b[0m                                Traceback (most recent call last)",
      "\u001b[1;32m<ipython-input-40-17d996c70190>\u001b[0m in \u001b[0;36m<module>\u001b[1;34m()\u001b[0m\n\u001b[1;32m----> 1\u001b[1;33m \u001b[0mstrVar\u001b[0m\u001b[1;33m.\u001b[0m\u001b[0mindex\u001b[0m\u001b[1;33m(\u001b[0m\u001b[1;34m'z'\u001b[0m\u001b[1;33m)\u001b[0m\u001b[1;33m\u001b[0m\u001b[0m\n\u001b[0m",
      "\u001b[1;31mValueError\u001b[0m: substring not found"
     ],
     "output_type": "error"
    }
   ],
   "source": [
    "strVar.index('z')"
   ]
  },
  {
   "cell_type": "heading",
   "metadata": {},
   "level": 1,
   "source": [
    "isalnum()\n",
    "Returns true if string has at least 1 character and all characters are\n",
    "alphanumeric and false otherwise.\n"
   ]
  },
  {
   "cell_type": "code",
   "execution_count": 46,
   "metadata": {},
   "outputs": [
    {
     "name": "stdout",
     "output_type": "stream",
     "text": [
      "Its not an digit\n22\n"
     ]
    }
   ],
   "source": [
    "x = 10\n",
    "y = 'ksdfjlksdfj'\n",
    "if(y.isdigit()):\n",
    "    z = x + int(y)\n",
    "else:\n",
    "    print(\"Its not an digit\")\n",
    "    \n",
    "print(z)"
   ]
  },
  {
   "cell_type": "code",
   "execution_count": 51,
   "metadata": {},
   "outputs": [
    {
     "name": "stdout",
     "output_type": "stream",
     "text": [
      "False\nFalse\nTrue\nWELCOME TO PYTHON SESSION\n"
     ]
    }
   ],
   "source": [
    "print(strVar.islower())\n",
    "print(strVar.isupper())\n",
    "print(strVar.lower().islower())\n",
    "print(strVar.upper())"
   ]
  },
  {
   "cell_type": "code",
   "execution_count": 52,
   "metadata": {},
   "outputs": [
    {
     "data": {
      "text/plain": [
       "25"
      ]
     },
     "execution_count": 52,
     "metadata": {},
     "output_type": "execute_result"
    }
   ],
   "source": [
    "len(strVar)"
   ]
  },
  {
   "cell_type": "markdown",
   "metadata": {},
   "source": [
    "ljust(width[, fillchar])\n",
    "Returns a space-padded string with the original string left-justified to a total\n",
    "of width columns."
   ]
  },
  {
   "cell_type": "code",
   "execution_count": 56,
   "metadata": {},
   "outputs": [
    {
     "name": "stdout",
     "output_type": "stream",
     "text": [
      "Welcome to Python Session*******************************************************\n-------------------------------------------------------Welcome to Python Session\n"
     ]
    }
   ],
   "source": [
    "print(strVar.ljust(80,'*'))\n",
    "print(strVar.rjust(80, '-'))\n"
   ]
  },
  {
   "cell_type": "heading",
   "metadata": {},
   "level": 1,
   "source": [
    "lstrip()\n",
    "Removes all leading whitespace in string."
   ]
  },
  {
   "cell_type": "code",
   "execution_count": 58,
   "metadata": {},
   "outputs": [
    {
     "data": {
      "text/plain": [
       "'Welcome to Python Session'"
      ]
     },
     "execution_count": 58,
     "metadata": {},
     "output_type": "execute_result"
    }
   ],
   "source": [
    "strVar.lstrip('')"
   ]
  },
  {
   "cell_type": "code",
   "execution_count": 60,
   "metadata": {},
   "outputs": [
    {
     "data": {
      "text/plain": [
       "'000000000000000000000000000000000000000000000000000000000000000000000000000Welcome to Python Session'"
      ]
     },
     "execution_count": 60,
     "metadata": {},
     "output_type": "execute_result"
    }
   ],
   "source": [
    "strVar.swapcase()\n",
    "strVar.zfill(100)"
   ]
  },
  {
   "cell_type": "code",
   "execution_count": 61,
   "metadata": {},
   "outputs": [
    {
     "name": "stdout",
     "output_type": "stream",
     "text": [
      "Encoded String:  b'dGhpcyBpcyBzdHJpbmcgZXhhbXBsZS4uLi53b3chISE='\n"
     ]
    }
   ],
   "source": [
    "import base64\n",
    "\n",
    "Str = \"this is string example....wow!!!\"\n",
    "Str=base64.b64encode(Str.encode('utf-8',errors='strict'))\n",
    "print (\"Encoded String: \" , Str)\n"
   ]
  },
  {
   "cell_type": "code",
   "execution_count": 62,
   "metadata": {},
   "outputs": [
    {
     "name": "stdout",
     "output_type": "stream",
     "text": [
      "(10, 20, 30)\n"
     ]
    }
   ],
   "source": [
    "x = 10\n",
    "x = 10,20,30\n",
    "print(x)"
   ]
  },
  {
   "cell_type": "code",
   "execution_count": null,
   "metadata": {},
   "outputs": [],
   "source": []
  }
 ],
 "metadata": {
  "kernelspec": {
   "display_name": "Python 2",
   "language": "python",
   "name": "python2"
  },
  "language_info": {
   "codemirror_mode": {
    "name": "ipython",
    "version": 2
   },
   "file_extension": ".py",
   "mimetype": "text/x-python",
   "name": "python",
   "nbconvert_exporter": "python",
   "pygments_lexer": "ipython2",
   "version": "2.7.6"
  }
 },
 "nbformat": 4,
 "nbformat_minor": 0
}
