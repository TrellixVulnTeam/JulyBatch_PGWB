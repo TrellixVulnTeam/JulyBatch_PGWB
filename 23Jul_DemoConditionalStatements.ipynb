{
 "cells": [
  {
   "cell_type": "heading",
   "metadata": {
    "collapsed": true
   },
   "level": 1,
   "source": [
    "In Python, If Statement is used for decision making. It will run the body of code only when IF statement is true.\n",
    "\n",
    "When you want to justify one condition while the other condition is not true, then you use \"if statement\"."
   ]
  },
  {
   "cell_type": "code",
   "execution_count": 5,
   "metadata": {},
   "outputs": [
    {
     "name": "stdout",
     "output_type": "stream",
     "text": [
      "Y is greater than x\n"
     ]
    }
   ],
   "source": [
    "# Biggest of two numbers\n",
    "x = 10\n",
    "y = 20\n",
    "if(x > y):\n",
    "    print(\"X is greater than y\")\n",
    "else:\n",
    "    print(\"Y is greater than x\")"
   ]
  },
  {
   "cell_type": "code",
   "execution_count": 9,
   "metadata": {},
   "outputs": [
    {
     "name": "stdout",
     "output_type": "stream",
     "text": [
      "The value is not matching\n"
     ]
    }
   ],
   "source": [
    "x = 13\n",
    "if(x == 10):\n",
    "    print(\"The value is 10\")\n",
    "if(x == 11):\n",
    "    print(\"The value is 11\")\n",
    "if(x == 12):\n",
    "    print(\"The vlaue if 12\")\n",
    "else:\n",
    "    print(\"The value is not matching\")"
   ]
  },
  {
   "cell_type": "code",
   "execution_count": 12,
   "metadata": {},
   "outputs": [
    {
     "name": "stdout",
     "output_type": "stream",
     "text": [
      "C is bigger\n"
     ]
    }
   ],
   "source": [
    "# Biggest of three numbers\n",
    "\n",
    "a = 18\n",
    "b = 15\n",
    "c = 18\n",
    "\n",
    "if(a >= b):\n",
    "    if(a > c):\n",
    "        print(\"A is bigger\")\n",
    "    else:\n",
    "        print(\"C is bigger\")\n",
    "elif(b > c):\n",
    "    print(\"b is bigger\")\n",
    "else:\n",
    "    print(\"C is bigger\")"
   ]
  },
  {
   "cell_type": "code",
   "execution_count": null,
   "metadata": {},
   "outputs": [],
   "source": []
  }
 ],
 "metadata": {
  "kernelspec": {
   "display_name": "Python 2",
   "language": "python",
   "name": "python2"
  },
  "language_info": {
   "codemirror_mode": {
    "name": "ipython",
    "version": 2
   },
   "file_extension": ".py",
   "mimetype": "text/x-python",
   "name": "python",
   "nbconvert_exporter": "python",
   "pygments_lexer": "ipython2",
   "version": "2.7.6"
  }
 },
 "nbformat": 4,
 "nbformat_minor": 0
}
