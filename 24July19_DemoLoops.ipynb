{
 "cells": [
  {
   "cell_type": "markdown",
   "metadata": {
    "collapsed": true
   },
   "source": [
    "statements are executed sequentially- The first statement in a function is\n",
    "executed first, followed by the second, and so on. There may be a situation when you need\n",
    "to execute a block of code several number of times.\n",
    "Programming languages provide various control structures that allow more complicated\n",
    "execution paths.\n",
    "A loop statement allows us to execute a statement or group of statements multiple times.\n",
    "The following diagram illustrates a loop statement."
   ]
  },
  {
   "cell_type": "code",
   "execution_count": 3,
   "metadata": {},
   "outputs": [
    {
     "name": "stdout",
     "output_type": "stream",
     "text": [
      "[10, 30, 20, 70, 50, 'Python']\n"
     ]
    }
   ],
   "source": [
    "lstVar = [10,30,20,70,50, 'Python']\n",
    "print(lstVar)\n",
    "\n",
    "for var in lstVar:\n",
    "    print(var)"
   ]
  },
  {
   "cell_type": "code",
   "execution_count": 5,
   "metadata": {
    "collapsed": true
   },
   "outputs": [
    {
     "name": "stdout",
     "output_type": "stream",
     "text": [
      "[10, 30, 20, 70, 50, 'Python']\n10, 30, 20, 70, 50, Python, "
     ]
    }
   ],
   "source": [
    "lstVar = [10,30,20,70,50, 'Python']\n",
    "print(lstVar)\n",
    "\n",
    "for var in lstVar:\n",
    "    print(var, end=', ')"
   ]
  },
  {
   "cell_type": "code",
   "execution_count": 6,
   "metadata": {},
   "outputs": [
    {
     "name": "stdout",
     "output_type": "stream",
     "text": [
      "0, 1, 2, 3, 4, 5, 6, 7, 8, 9, "
     ]
    }
   ],
   "source": [
    "for var in range(10):\n",
    "    print(var, end=', ')"
   ]
  },
  {
   "cell_type": "code",
   "execution_count": 7,
   "metadata": {},
   "outputs": [
    {
     "name": "stdout",
     "output_type": "stream",
     "text": [
      "20, 21, 22, 23, 24, 25, 26, 27, 28, 29, "
     ]
    }
   ],
   "source": [
    "for var in range(20,30):\n",
    "    print(var, end=', ')"
   ]
  },
  {
   "cell_type": "code",
   "execution_count": 8,
   "metadata": {},
   "outputs": [
    {
     "name": "stdout",
     "output_type": "stream",
     "text": [
      "<class 'list'>\n"
     ]
    }
   ],
   "source": [
    "lstVar = []\n",
    "print(type(lstVar))"
   ]
  },
  {
   "cell_type": "code",
   "execution_count": 9,
   "metadata": {},
   "outputs": [],
   "source": [
    "lstVar = []\n",
    "for var in lstVar:\n",
    "    print(var)"
   ]
  },
  {
   "cell_type": "code",
   "execution_count": 10,
   "metadata": {},
   "outputs": [
    {
     "name": "stdout",
     "output_type": "stream",
     "text": [
      "List is empty\n"
     ]
    }
   ],
   "source": [
    "if len(lstVar) > 0:\n",
    "    for var in lstVar:\n",
    "        print(var)\n",
    "else:\n",
    "    print(\"List is empty\")\n",
    "        "
   ]
  },
  {
   "cell_type": "code",
   "execution_count": 11,
   "metadata": {},
   "outputs": [
    {
     "name": "stdout",
     "output_type": "stream",
     "text": [
      "List is Empty\n"
     ]
    }
   ],
   "source": [
    "for var in lstVar:\n",
    "    print(var)\n",
    "else:\n",
    "    print('List is Empty')"
   ]
  },
  {
   "cell_type": "code",
   "execution_count": 12,
   "metadata": {},
   "outputs": [
    {
     "name": "stdout",
     "output_type": "stream",
     "text": [
      "12\n10\nList is Empty\n"
     ]
    }
   ],
   "source": [
    "lstVar = [12,10]\n",
    "for var in lstVar:\n",
    "    if(lstVar == 10):\n",
    "        print(var)\n",
    "else:\n",
    "    print('List is Empty')"
   ]
  },
  {
   "cell_type": "code",
   "execution_count": 16,
   "metadata": {},
   "outputs": [
    {
     "name": "stdout",
     "output_type": "stream",
     "text": [
      "0 1 2 \n0 1 2 \n0 1 2 \n"
     ]
    }
   ],
   "source": [
    "for i in range(3):\n",
    "    for j in range(3):\n",
    "        print(j, end=' ')\n",
    "    print()\n",
    "        "
   ]
  },
  {
   "cell_type": "code",
   "execution_count": 18,
   "metadata": {},
   "outputs": [
    {
     "name": "stdout",
     "output_type": "stream",
     "text": [
      "\n* \n* * \n* * * \n* * * * \n* * * * * \n* * * * * * \n* * * * * * * \n* * * * * * * * \n* * * * * * * * * \n"
     ]
    }
   ],
   "source": [
    "for i in range(10):\n",
    "    for j in range(i):\n",
    "        print('*', end=' ')\n",
    "    print()\n",
    "        "
   ]
  },
  {
   "cell_type": "markdown",
   "metadata": {},
   "source": [
    "A while loop statement in Python programming language repeatedly executes a target\n",
    "statement as long as a given condition is true.\n",
    "Syntax\n",
    "The syntax of a while loop in Python programming language iswhile\n",
    "expression:\n",
    "statement(s)"
   ]
  },
  {
   "cell_type": "code",
   "execution_count": 4,
   "metadata": {},
   "outputs": [
    {
     "name": "stdout",
     "output_type": "stream",
     "text": [
      "0\n1\n2\n3\n4\n"
     ]
    }
   ],
   "source": [
    "i = 0\n",
    "while(i < 5):\n",
    "    print(i)\n",
    "    i = i + 1"
   ]
  },
  {
   "cell_type": "code",
   "execution_count": 6,
   "metadata": {},
   "outputs": [
    {
     "name": "stdout",
     "output_type": "stream",
     "text": [
      "5\n6\n7\n8\n9\nNo Record found\n"
     ]
    }
   ],
   "source": [
    "i = 5\n",
    "while(i<10):\n",
    "    print(i)\n",
    "    i = i + 1\n",
    "else:\n",
    "    print('No Record found')"
   ]
  },
  {
   "cell_type": "code",
   "execution_count": 7,
   "metadata": {},
   "outputs": [
    {
     "name": "stdout",
     "output_type": "stream",
     "text": [
      "[0, 1, 2, 3, 4, 5, 6, 7, 8, 9]\n[0, 1, 2, 3, 4, 5, 6, 7, 8, 9]\n"
     ]
    }
   ],
   "source": [
    "listVar1 = [0,1,2,3,4,5,6,7,8,9]\n",
    "listVar2 = list(range(10))\n",
    "print(listVar1)\n",
    "print(listVar2)\n"
   ]
  },
  {
   "cell_type": "code",
   "execution_count": 9,
   "metadata": {},
   "outputs": [
    {
     "name": "stdout",
     "output_type": "stream",
     "text": [
      "Welcome to python session"
     ]
    }
   ],
   "source": [
    "name = 'Welcome to python session'\n",
    "for i in name:\n",
    "    print(i, end='')"
   ]
  },
  {
   "cell_type": "heading",
   "metadata": {},
   "level": 1,
   "source": []
  },
  {
   "cell_type": "code",
   "execution_count": 16,
   "metadata": {},
   "outputs": [
    {
     "name": "stdout",
     "output_type": "stream",
     "text": [
      "R\na\nj\ne\ns\nh\n \n"
     ]
    }
   ],
   "source": [
    "name = \"Rajesh Kumar\"\n",
    "for var in name:\n",
    "    if(var == 'K'):\n",
    "        break\n",
    "    print(var)"
   ]
  },
  {
   "cell_type": "code",
   "execution_count": 17,
   "metadata": {},
   "outputs": [
    {
     "name": "stdout",
     "output_type": "stream",
     "text": [
      "R\na\nj\ne\ns\nh\n \nu\nm\na\nr\n"
     ]
    }
   ],
   "source": [
    "name = \"Rajesh Kumar\"\n",
    "for var in name:\n",
    "    if(var == 'K'):\n",
    "        continue\n",
    "    print(var)"
   ]
  },
  {
   "cell_type": "code",
   "execution_count": 18,
   "metadata": {},
   "outputs": [
    {
     "name": "stdout",
     "output_type": "stream",
     "text": [
      "Hai\n"
     ]
    }
   ],
   "source": [
    "name = \"Rajesh Kumar\"\n",
    "for var in name:\n",
    "   pass\n",
    "print('Hai')"
   ]
  },
  {
   "cell_type": "code",
   "execution_count": null,
   "metadata": {},
   "outputs": [],
   "source": []
  }
 ],
 "metadata": {
  "kernelspec": {
   "display_name": "Python 2",
   "language": "python",
   "name": "python2"
  },
  "language_info": {
   "codemirror_mode": {
    "name": "ipython",
    "version": 2
   },
   "file_extension": ".py",
   "mimetype": "text/x-python",
   "name": "python",
   "nbconvert_exporter": "python",
   "pygments_lexer": "ipython2",
   "version": "2.7.6"
  }
 },
 "nbformat": 4,
 "nbformat_minor": 0
}
