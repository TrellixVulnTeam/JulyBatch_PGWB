{
 "cells": [
  {
   "cell_type": "heading",
   "metadata": {
    "collapsed": true
   },
   "level": 1,
   "source": [
    "Iterator and Generator\n",
    "Iterator is an object, which allows a programmer to traverse through all the elements of\n",
    "a collection, regardless of its specific implementation. In Python, an iterator object\n",
    "implements two methods, iter() and next().\n",
    "String, List or Tuple objects can be used to create an Iterator"
   ]
  },
  {
   "cell_type": "code",
   "execution_count": 2,
   "metadata": {},
   "outputs": [
    {
     "name": "stdout",
     "output_type": "stream",
     "text": [
      "10\n20\n30\n40\n50\n"
     ]
    }
   ],
   "source": [
    "listVar1 = [10,20,30,40,50]\n",
    "for var in listVar1:\n",
    "    print(var)"
   ]
  },
  {
   "cell_type": "code",
   "execution_count": 9,
   "metadata": {},
   "outputs": [
    {
     "name": "stdout",
     "output_type": "stream",
     "text": [
      "10\n20\n30\n40\n50\n"
     ]
    }
   ],
   "source": [
    "listVar1 = [10,20,30,40,50]\n",
    "iterObj = iter(listVar1)\n",
    "print(next(iterObj))\n",
    "print(next(iterObj))\n",
    "print(next(iterObj))\n",
    "print(next(iterObj))\n",
    "print(next(iterObj))\n",
    "#print(next(iterObj)) "
   ]
  },
  {
   "cell_type": "heading",
   "metadata": {},
   "level": 1,
   "source": [
    "Here is how a generator function differs from a normal function.\n",
    "\n",
    "Generator function contains one or more yield statement.\n",
    "When called, it returns an object (iterator) but does not start execution immediately.\n",
    "Methods like __iter__() and __next__() are implemented automatically. So we can iterate through the items using next().\n",
    "Once the function yields, the function is paused and the control is transferred to the caller.\n",
    "Local variables and their states are remembered between successive calls.\n",
    "Finally, when the function terminates, StopIteration is raised automatically on further calls.\n",
    "Here is an example to illustrate all of the points stated above. We have a generator function named my_gen() with several yield statements."
   ]
  },
  {
   "cell_type": "code",
   "execution_count": 18,
   "metadata": {},
   "outputs": [
    {
     "name": "stdout",
     "output_type": "stream",
     "text": [
      "First Statement :  0\nSecond Statement :  1\nThird Statement :  2\nFourth Statement :  3\n"
     ]
    },
    {
     "ename": "StopIteration",
     "evalue": "",
     "traceback": [
      "\u001b[1;31m---------------------------------------------------------------------------\u001b[0m",
      "\u001b[1;31mStopIteration\u001b[0m                             Traceback (most recent call last)",
      "\u001b[1;32m<ipython-input-18-7ec37dde1154>\u001b[0m in \u001b[0;36m<module>\u001b[1;34m()\u001b[0m\n\u001b[0;32m     20\u001b[0m \u001b[0mnext\u001b[0m\u001b[1;33m(\u001b[0m\u001b[0mx\u001b[0m\u001b[1;33m)\u001b[0m\u001b[1;33m\u001b[0m\u001b[0m\n\u001b[0;32m     21\u001b[0m \u001b[0mnext\u001b[0m\u001b[1;33m(\u001b[0m\u001b[0mx\u001b[0m\u001b[1;33m)\u001b[0m\u001b[1;33m\u001b[0m\u001b[0m\n\u001b[1;32m---> 22\u001b[1;33m \u001b[0mnext\u001b[0m\u001b[1;33m(\u001b[0m\u001b[0mx\u001b[0m\u001b[1;33m)\u001b[0m\u001b[1;33m\u001b[0m\u001b[0m\n\u001b[0m",
      "\u001b[1;31mStopIteration\u001b[0m: "
     ],
     "output_type": "error"
    }
   ],
   "source": [
    "def Generator():\n",
    "    n = 0\n",
    "    print(\"First Statement : \", n)\n",
    "    yield n\n",
    "    \n",
    "    n = n + 1\n",
    "    print(\"Second Statement : \", n)\n",
    "    yield n\n",
    "\n",
    "    n = n + 1\n",
    "    print(\"Third Statement : \", n)\n",
    "    yield n\n",
    "\n",
    "    n = n + 1\n",
    "    print(\"Fourth Statement : \", n)\n",
    "    yield n\n",
    "x = Generator()\n",
    "next(x)\n",
    "next(x)\n",
    "next(x)\n",
    "next(x)\n",
    "next(x)"
   ]
  },
  {
   "cell_type": "code",
   "execution_count": 14,
   "metadata": {},
   "outputs": [],
   "source": []
  },
  {
   "cell_type": "code",
   "execution_count": null,
   "metadata": {},
   "outputs": [],
   "source": []
  }
 ],
 "metadata": {
  "kernelspec": {
   "display_name": "Python 2",
   "language": "python",
   "name": "python2"
  },
  "language_info": {
   "codemirror_mode": {
    "name": "ipython",
    "version": 2
   },
   "file_extension": ".py",
   "mimetype": "text/x-python",
   "name": "python",
   "nbconvert_exporter": "python",
   "pygments_lexer": "ipython2",
   "version": "2.7.6"
  }
 },
 "nbformat": 4,
 "nbformat_minor": 0
}
