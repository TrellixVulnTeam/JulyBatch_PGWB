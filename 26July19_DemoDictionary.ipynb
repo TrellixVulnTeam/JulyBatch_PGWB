{
 "cells": [
  {
   "cell_type": "heading",
   "metadata": {
    "collapsed": true
   },
   "level": 1,
   "source": [
    "Each key is separated from its value by a colon (:), the items are separated by commas,\n",
    "and the whole thing is enclosed in curly braces. An empty dictionary without any items is\n",
    "written with just two curly braces, like this: {}.\n",
    "Keys are unique within a dictionary while values may not be. The values of a dictionary\n",
    "can be of any type, but the keys must be of an immutable data type such as strings,\n",
    "numbers, or tuples."
   ]
  },
  {
   "cell_type": "code",
   "execution_count": 14,
   "metadata": {
    "collapsed": true
   },
   "outputs": [
    {
     "name": "stdout",
     "output_type": "stream",
     "text": [
      "{1: 'Kumar', 2: 'Mahesh', 'd3199': 'Balu', 4: 'Guna'}\ndict_keys([1, 2, 'd3199', 4])\ndict_values(['Kumar', 'Mahesh', 'Balu', 'Guna'])\nGuna\n{1: 'Kumar', 2: 'Mahesh', 'd3199': 'Balu', 4: 'New Value'}\nBalu\n{}\n"
     ]
    }
   ],
   "source": [
    "dictVar = {1:'Kumar', 2 : 'Mahesh', 'd3199' : 'Balu', 4 : 'Guna'}\n",
    "print(dictVar)\n",
    "print(dictVar.keys())\n",
    "print(dictVar.values())\n",
    "print(dictVar[4])\n",
    "dictVar[4] = 'New Value'\n",
    "print(dictVar)\n",
    "print(dictVar['d3199'])\n",
    "#dictVar.clear()\n",
    "print(dictVar)"
   ]
  },
  {
   "cell_type": "heading",
   "metadata": {},
   "level": 1,
   "source": [
    "Description\n",
    "The method copy() returns a shallow copy of the dictionary."
   ]
  },
  {
   "cell_type": "code",
   "execution_count": 15,
   "metadata": {},
   "outputs": [
    {
     "name": "stdout",
     "output_type": "stream",
     "text": [
      "{1: 'Kumar', 2: 'Maheshkumar', 'd3199': 'Balu', 4: 'Guna'}\n{1: 'Kumar', 2: 'Mahesh', 'd3199': 'Balu', 4: 'Guna'}\n"
     ]
    }
   ],
   "source": [
    "dictVar = {1:'Kumar', 2 : 'Mahesh', 'd3199' : 'Balu', 4 : 'Guna'}\n",
    "dictVar2 = dictVar.copy()\n",
    "dictVar2[2] = 'Maheshkumar'\n",
    "print(dictVar2)\n",
    "print(dictVar)"
   ]
  },
  {
   "cell_type": "heading",
   "metadata": {},
   "level": 1,
   "source": [
    "Description\n",
    "Deep Copy"
   ]
  },
  {
   "cell_type": "code",
   "execution_count": 19,
   "metadata": {},
   "outputs": [
    {
     "name": "stdout",
     "output_type": "stream",
     "text": [
      "{1: 'Ravi Kumar', 2: 'Mahesh', 'd3199': 'Balu', 4: 'Guna'}\n{1: 'Ravi Kumar', 2: 'Mahesh', 'd3199': 'Balu', 4: 'Guna'}\nMahesh\nMahesh\ndict_items([(1, 'Ravi Kumar'), (2, 'Mahesh'), ('d3199', 'Balu'), (4, 'Guna')])\n"
     ]
    }
   ],
   "source": [
    "dictVar3 = dictVar\n",
    "dictVar3[1] = 'Ravi Kumar'\n",
    "print(dictVar)\n",
    "print(dictVar3)\n",
    "print(dictVar3[2])\n",
    "print(dictVar3.get(2))\n",
    "print(dictVar3.items())"
   ]
  },
  {
   "cell_type": "code",
   "execution_count": null,
   "metadata": {},
   "outputs": [],
   "source": []
  }
 ],
 "metadata": {
  "kernelspec": {
   "display_name": "Python 2",
   "language": "python",
   "name": "python2"
  },
  "language_info": {
   "codemirror_mode": {
    "name": "ipython",
    "version": 2
   },
   "file_extension": ".py",
   "mimetype": "text/x-python",
   "name": "python",
   "nbconvert_exporter": "python",
   "pygments_lexer": "ipython2",
   "version": "2.7.6"
  }
 },
 "nbformat": 4,
 "nbformat_minor": 0
}
