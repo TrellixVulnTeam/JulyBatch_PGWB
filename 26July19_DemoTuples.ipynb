{
 "cells": [
  {
   "cell_type": "heading",
   "metadata": {
    "collapsed": true
   },
   "level": 1,
   "source": [
    "A tuple is a sequence of immutable Python objects. Tuples are sequences, just like lists.\n",
    "The main difference between the tuples and the lists is that the tuples cannot be changed\n",
    "unlike lists. Tuples use parentheses, whereas lists use square brackets.\n",
    "Creating a tuple is as simple as putting different comma-separated values. Optionally, you\n",
    "can put these comma-separated values between parentheses also. For exampletup1"
   ]
  },
  {
   "cell_type": "code",
   "execution_count": 2,
   "metadata": {},
   "outputs": [
    {
     "name": "stdout",
     "output_type": "stream",
     "text": [
      "(10, 20, 30, 40)\n"
     ]
    }
   ],
   "source": [
    "tupVar = (10,20,30,40)\n",
    "print(tupVar)"
   ]
  },
  {
   "cell_type": "code",
   "execution_count": 4,
   "metadata": {},
   "outputs": [
    {
     "name": "stdout",
     "output_type": "stream",
     "text": [
      "Ist Position 20\nSlice  (10, 20)\n"
     ]
    }
   ],
   "source": [
    "print(\"Ist Position\", tupVar[1])\n",
    "print(\"Slice \", tupVar[:2])"
   ]
  },
  {
   "cell_type": "code",
   "execution_count": 14,
   "metadata": {},
   "outputs": [
    {
     "name": "stdout",
     "output_type": "stream",
     "text": [
      "(10, 20, 30, 40, 50, 60)\n(10, 20, 30, 40, 50, 60)\n"
     ]
    }
   ],
   "source": [
    "tupVar = (10,20,30,40)\n",
    "tupVar2 = (50,60)\n",
    "\n",
    "lstVar = [50,60]\n",
    "print(tupVar + tuple(lstVar))\n",
    "#tupVar[2] = 'New Value' # Not allow - Immutable\n",
    "tupVar3 = tupVar + tupVar2\n",
    "print(tupVar3)\n",
    "\n",
    "del tupVar3\n",
    "#print(tupVar3)"
   ]
  },
  {
   "cell_type": "code",
   "execution_count": 20,
   "metadata": {},
   "outputs": [
    {
     "name": "stdout",
     "output_type": "stream",
     "text": [
      "Max Value :  40\nMin Value :  10\nTuple Character Welcome\n"
     ]
    }
   ],
   "source": [
    "print(\"Max Value : \", max(tupVar))\n",
    "print(\"Min Value : \", min(tupVar))\n",
    "tup4 = ('Welcome', 'python')\n",
    "print('Tuple Character', min(tup4))"
   ]
  },
  {
   "cell_type": "code",
   "execution_count": 25,
   "metadata": {},
   "outputs": [
    {
     "name": "stdout",
     "output_type": "stream",
     "text": [
      "([10, 20, 30], [40, 50, 60], [70, 80, 90])\n10 20 30 \n40 50 60 \n70 80 90 \n"
     ]
    }
   ],
   "source": [
    "tupVar5 = ([10,20,30],[40,50,60],[70,80,90])\n",
    "print(tupVar5)\n",
    "for var in tupVar5:\n",
    "    for v in var:\n",
    "        print(v, end=' ')\n",
    "    print()"
   ]
  },
  {
   "cell_type": "code",
   "execution_count": null,
   "metadata": {},
   "outputs": [],
   "source": []
  }
 ],
 "metadata": {
  "kernelspec": {
   "display_name": "Python 2",
   "language": "python",
   "name": "python2"
  },
  "language_info": {
   "codemirror_mode": {
    "name": "ipython",
    "version": 2
   },
   "file_extension": ".py",
   "mimetype": "text/x-python",
   "name": "python",
   "nbconvert_exporter": "python",
   "pygments_lexer": "ipython2",
   "version": "2.7.6"
  }
 },
 "nbformat": 4,
 "nbformat_minor": 0
}
