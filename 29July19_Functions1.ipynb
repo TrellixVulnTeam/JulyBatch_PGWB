{
 "cells": [
  {
   "cell_type": "heading",
   "metadata": {
    "collapsed": true
   },
   "level": 1,
   "source": [
    "A function is a block of organized, reusable code that is used to perform a single, related\n",
    "action. Functions provide better modularity for your application and a high degree of code\n",
    "reusing.\n",
    "As you already know, Python gives you many built-in functions like print(), etc. but you\n",
    "can also create your own functions. These functions are called user-defined functions.\n",
    "Defining a Function\n",
    "You can define functions to provide the required functionality. Here are simple rules to\n",
    "define a function in Python.\n",
    " Function blocks begin with the keyword def followed by the function name and\n",
    "parentheses ( ( ) ).\n",
    " Any input parameters or arguments should be placed within these parentheses.\n",
    "You can also define parameters inside these parentheses.\n",
    " The first statement of a function can be an optional statement - the documentation\n",
    "string of the function or docstring.\n",
    " The code block within every function starts with a colon (:) and is indented.\n",
    " The statement return [expression] exits a function, optionally passing back an\n",
    "expression to the caller. A return statement with no arguments is the same as\n",
    "return None.\n",
    "S"
   ]
  },
  {
   "cell_type": "heading",
   "metadata": {},
   "level": 1,
   "source": [
    "AccessModifier in Python\n",
    "1. Private\n",
    "2. Public\n",
    "\n",
    "def NameoftheFunction(Parameter1, Parameter2):\n",
    "\tc = Parameter1 + Parameter2\n",
    "\n",
    "By Default all functions are public\n",
    "__(Underscore) infront of function\n"
   ]
  },
  {
   "cell_type": "code",
   "execution_count": 2,
   "metadata": {},
   "outputs": [],
   "source": [
    "def Add(a, b):\n",
    "    'Addition of two number'\n",
    "    c = a + b\n",
    "    print(\"The result is : \", c)\n",
    "    \n",
    "    \n"
   ]
  },
  {
   "cell_type": "code",
   "execution_count": 11,
   "metadata": {},
   "outputs": [
    {
     "name": "stdout",
     "output_type": "stream",
     "text": [
      "The result is :  30\nThe result is :  50\nThe result is :  100\n"
     ]
    },
    {
     "ename": "NameError",
     "evalue": "name 'Sub' is not defined",
     "traceback": [
      "\u001b[1;31m---------------------------------------------------------------------------\u001b[0m",
      "\u001b[1;31mNameError\u001b[0m                                 Traceback (most recent call last)",
      "\u001b[1;32m<ipython-input-11-76f674d76d67>\u001b[0m in \u001b[0;36m<module>\u001b[1;34m()\u001b[0m\n\u001b[0;32m      2\u001b[0m \u001b[0mAdd\u001b[0m\u001b[1;33m(\u001b[0m\u001b[1;36m20\u001b[0m\u001b[1;33m,\u001b[0m \u001b[1;36m30\u001b[0m\u001b[1;33m)\u001b[0m\u001b[1;33m\u001b[0m\u001b[0m\n\u001b[0;32m      3\u001b[0m \u001b[0mAdd\u001b[0m\u001b[1;33m(\u001b[0m\u001b[1;36m40\u001b[0m\u001b[1;33m,\u001b[0m\u001b[1;36m60\u001b[0m\u001b[1;33m)\u001b[0m\u001b[1;33m\u001b[0m\u001b[0m\n\u001b[1;32m----> 4\u001b[1;33m \u001b[0mSub\u001b[0m\u001b[1;33m(\u001b[0m\u001b[1;36m10\u001b[0m\u001b[1;33m,\u001b[0m\u001b[1;36m5\u001b[0m\u001b[1;33m)\u001b[0m\u001b[1;33m\u001b[0m\u001b[0m\n\u001b[0m",
      "\u001b[1;31mNameError\u001b[0m: name 'Sub' is not defined"
     ],
     "output_type": "error"
    }
   ],
   "source": [
    "Add(10, 20)\n",
    "Add(20, 30)\n",
    "Add(40,60)\n",
    "Sub(10,5)"
   ]
  },
  {
   "cell_type": "code",
   "execution_count": 3,
   "metadata": {},
   "outputs": [],
   "source": [
    "def Sub(a, b):\n",
    "    c = a + b\n",
    "    return c"
   ]
  },
  {
   "cell_type": "code",
   "execution_count": 4,
   "metadata": {
    "collapsed": true
   },
   "outputs": [
    {
     "name": "stdout",
     "output_type": "stream",
     "text": [
      "The sub value is :  16\n"
     ]
    }
   ],
   "source": [
    "result = Sub(10, 6)\n",
    "print(\"The sub value is : \", result)"
   ]
  },
  {
   "cell_type": "heading",
   "metadata": {},
   "level": 1,
   "source": [
    "Pass by Reference vs Value\n",
    "All parameters (arguments) in the Python language are passed by reference. It means if\n",
    "you change what a parameter refers to within a function,"
   ]
  },
  {
   "cell_type": "code",
   "execution_count": 5,
   "metadata": {},
   "outputs": [
    {
     "name": "stdout",
     "output_type": "stream",
     "text": [
      "1 :  Initial Value\n 2 : Modified New Value with in my function\n3 :  Initial Value\n"
     ]
    }
   ],
   "source": [
    "def PassByValue(valueVar):\n",
    "    valueVar = 'New Value'\n",
    "    print(\" 2 : Modified New Value with in my function\")\n",
    "\n",
    "valueVar = 'Initial Value'\n",
    "print(\"1 : \", valueVar)\n",
    "PassByValue(valueVar)\n",
    "print(\"3 : \", valueVar)\n",
    "    "
   ]
  },
  {
   "cell_type": "code",
   "execution_count": 6,
   "metadata": {},
   "outputs": [
    {
     "name": "stdout",
     "output_type": "stream",
     "text": [
      "1 :  [10, 20, 30]\n2 :  ['New Value', 20, 30]\n3 :  ['New Value', 20, 30]\n"
     ]
    }
   ],
   "source": [
    "def PassByRef(lstVar):\n",
    "    lstVar[0] = 'New Value'\n",
    "    print(\"2 : \", lstVar)\n",
    "    \n",
    "    \n",
    "lstVar = [10,20,30]\n",
    "print(\"1 : \", lstVar)\n",
    "PassByRef(lstVar)\n",
    "print(\"3 : \", lstVar)"
   ]
  },
  {
   "cell_type": "code",
   "execution_count": null,
   "metadata": {},
   "outputs": [],
   "source": []
  }
 ],
 "metadata": {
  "kernelspec": {
   "display_name": "Python 2",
   "language": "python",
   "name": "python2"
  },
  "language_info": {
   "codemirror_mode": {
    "name": "ipython",
    "version": 2
   },
   "file_extension": ".py",
   "mimetype": "text/x-python",
   "name": "python",
   "nbconvert_exporter": "python",
   "pygments_lexer": "ipython2",
   "version": "2.7.6"
  }
 },
 "nbformat": 4,
 "nbformat_minor": 0
}
