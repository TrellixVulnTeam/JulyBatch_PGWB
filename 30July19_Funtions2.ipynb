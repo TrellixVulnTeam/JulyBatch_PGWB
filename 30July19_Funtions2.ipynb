{
 "cells": [
  {
   "cell_type": "markdown",
   "metadata": {
    "collapsed": true
   },
   "source": [
    "Function Arguments\n",
    "You can call a function by using the following types of formal arguments-\n",
    " Required arguments\n",
    " Keyword arguments\n",
    " Default arguments\n",
    " Variable-length arguments"
   ]
  },
  {
   "cell_type": "code",
   "execution_count": 1,
   "metadata": {
    "collapsed": true
   },
   "outputs": [
    {
     "ename": "TypeError",
     "evalue": "RequiredArugument() missing 1 required positional argument: 'c'",
     "traceback": [
      "\u001b[1;31m---------------------------------------------------------------------------\u001b[0m",
      "\u001b[1;31mTypeError\u001b[0m                                 Traceback (most recent call last)",
      "\u001b[1;32m<ipython-input-1-78a29fb26d70>\u001b[0m in \u001b[0;36m<module>\u001b[1;34m()\u001b[0m\n\u001b[0;32m      3\u001b[0m     \u001b[0mprint\u001b[0m\u001b[1;33m(\u001b[0m\u001b[1;34m'The result is : '\u001b[0m\u001b[1;33m,\u001b[0m \u001b[0mc\u001b[0m\u001b[1;33m)\u001b[0m\u001b[1;33m\u001b[0m\u001b[0m\n\u001b[0;32m      4\u001b[0m \u001b[1;33m\u001b[0m\u001b[0m\n\u001b[1;32m----> 5\u001b[1;33m \u001b[0mRequiredArugument\u001b[0m\u001b[1;33m(\u001b[0m\u001b[1;36m10\u001b[0m\u001b[1;33m,\u001b[0m\u001b[1;36m20\u001b[0m\u001b[1;33m)\u001b[0m\u001b[1;33m\u001b[0m\u001b[0m\n\u001b[0m",
      "\u001b[1;31mTypeError\u001b[0m: RequiredArugument() missing 1 required positional argument: 'c'"
     ],
     "output_type": "error"
    }
   ],
   "source": [
    "def RequiredArugument(a, b, c):\n",
    "    c = a + b + c\n",
    "    print('The result is : ', c)\n",
    "    \n",
    "RequiredArugument(10,20)"
   ]
  },
  {
   "cell_type": "code",
   "execution_count": 6,
   "metadata": {},
   "outputs": [
    {
     "name": "stdout",
     "output_type": "stream",
     "text": [
      "The EmployeeId is  10\nThe Employee Name is  Kumar\nThe Employee Salary is  10000\n********************************************************************************\nThe EmployeeId is  Kumar\nThe Employee Name is  100000\nThe Employee Salary is  12\n********************************************************************************\nThe EmployeeId is  12\nThe Employee Name is  Kumar\nThe Employee Salary is  20000\n"
     ]
    }
   ],
   "source": [
    "# Keyword Arguments:\n",
    "\n",
    "def Employee(id, name, salary):\n",
    "    print('The EmployeeId is ', id)\n",
    "    print('The Employee Name is ', name)\n",
    "    print('The Employee Salary is ', salary)\n",
    "    \n",
    "Employee(10, 'Kumar', 10000)\n",
    "print('*' * 80)\n",
    "Employee('Kumar', 100000, 12 )\n",
    "print('*' * 80)\n",
    "Employee(salary=20000, id=12, name='Kumar')"
   ]
  },
  {
   "cell_type": "code",
   "execution_count": null,
   "metadata": {},
   "outputs": [],
   "source": []
  },
  {
   "cell_type": "markdown",
   "metadata": {},
   "source": [
    "Default Arguments\n",
    "A default argument is an argument that assumes a default value if a value is not provided\n",
    "in the function call for that argument. The following example gives an idea on default\n",
    "arguments, it prints default age if it is not passed."
   ]
  },
  {
   "cell_type": "code",
   "execution_count": 9,
   "metadata": {},
   "outputs": [
    {
     "name": "stdout",
     "output_type": "stream",
     "text": [
      "Employee Id :  12\nEmployee Name :  Ravi\nEmployee Age:  26\n****************************************************************************************************\nEmployee Id :  12\nEmployee Name :  Ravi\nEmployee Age:  NA\n"
     ]
    }
   ],
   "source": [
    "def Employee(id, name, age = 'NA'):\n",
    "    print('Employee Id : ', id)\n",
    "    print(\"Employee Name : \", name)\n",
    "    print('Employee Age: ', age)\n",
    "    \n",
    "Employee(12, 'Ravi', 26)\n",
    "print('*' * 100)\n",
    "Employee(12, 'Ravi')"
   ]
  },
  {
   "cell_type": "markdown",
   "metadata": {},
   "source": [
    "Variable-length Arguments\n",
    "You may need to process a function for more arguments than you specified while defining\n",
    "the function. These arguments are called variable-length arguments and are not named in\n",
    "the function definition, unlike required and default arguments."
   ]
  },
  {
   "cell_type": "code",
   "execution_count": 14,
   "metadata": {
    "collapsed": true
   },
   "outputs": [
    {
     "name": "stdout",
     "output_type": "stream",
     "text": [
      "Student Id :  21\nStudent Name :  Kiran\nStudent Total :  80\n****************************************************************************************************\nStudent Id :  21\nStudent Name :  Kiran\nStudent Total :  80\n80\n70\n45\n56\n****************************************************************************************************\nStudent Id :  21\nStudent Name :  Kiran\nStudent Total :  80\n80\n70\n45\n56\n67\n89\n"
     ]
    }
   ],
   "source": [
    "def Student(id, name, total, *Marks):\n",
    "    print('Student Id : ', id)\n",
    "    print('Student Name : ', name)\n",
    "    print('Student Total : ', total)\n",
    "    for i in Marks:\n",
    "        print(i)\n",
    "    \n",
    "\n",
    "Student(21, 'Kiran', 80)\n",
    "print('*' * 100)\n",
    "Student(21, 'Kiran', 80, 80, 70, 45,56)\n",
    "print('*' * 100)\n",
    "Student(21, 'Kiran', 80, 80, 70, 45,56, 67, 89)"
   ]
  },
  {
   "cell_type": "markdown",
   "metadata": {},
   "source": [
    "The Anonymous Functions\n",
    "These functions are called anonymous because they are not declared in the standard\n",
    "manner by using the def keyword. You can use the lambda keyword to create small\n",
    "anonymous functions.\n",
    " Lambda forms can take any number of arguments but return just one value in the\n",
    "form of an expression. They cannot contain commands or multiple expressions.\n",
    " An anonymous function cannot be a direct call to print because lambda requires an\n",
    "expression.\n",
    " Lambda functions have their own local namespace and cannot access variables\n",
    "other than those in their parameter list and those in the global namespace."
   ]
  },
  {
   "cell_type": "code",
   "execution_count": 18,
   "metadata": {},
   "outputs": [
    {
     "name": "stdout",
     "output_type": "stream",
     "text": [
      "40\n"
     ]
    }
   ],
   "source": [
    "def Add(a, b, anonymous):\n",
    "    print(anonymous(a, b))\n",
    "\n",
    "addAnonumousFunction = lambda a, b : \\\n",
    "    a + b\n",
    "# print(addAnonumousFunction(10,20))\n",
    "Add(10, 20, addAnonumousFunction)"
   ]
  },
  {
   "cell_type": "code",
   "execution_count": 21,
   "metadata": {},
   "outputs": [
    {
     "name": "stdout",
     "output_type": "stream",
     "text": [
      "2019-07-31 08:08:04.217027\nyear: 2019\nmonth: 07\nday: 31\ntime: 08:08:04\ndate and time: 07/31/2019, 08:08:04\n"
     ]
    }
   ],
   "source": [
    "from datetime import datetime\n",
    "now = datetime.now()\n",
    "print(now)\n",
    "\n",
    "year = now.strftime(\"%Y\")\n",
    "print(\"year:\", year)\n",
    "month = now.strftime(\"%m\")\n",
    "print(\"month:\", month)\n",
    "day = now.strftime(\"%d\")\n",
    "print(\"day:\", day)\n",
    "time = now.strftime(\"%H:%M:%S\")\n",
    "print(\"time:\", time)\n",
    "date_time = now.strftime(\"%m/%d/%Y, %H:%M:%S\")\n",
    "print(\"date and time:\",date_time)"
   ]
  },
  {
   "cell_type": "code",
   "execution_count": 48,
   "metadata": {
    "collapsed": false
   },
   "outputs": [
    {
     "name": "stdout",
     "output_type": "stream",
     "text": [
      "Name :  Ravi\nAge :  22\narg1\nArugment\narg2\nSecond Arg\n"
     ]
    }
   ],
   "source": [
    "def VariableLengthParameter(name, age, **kargs):\n",
    "   print('Name : ', name)\n",
    "   print('Age : ', age)\n",
    "   for key, value in kargs.items():\n",
    "       print(key)\n",
    "       print(value)\n",
    "       \n",
    "VariableLengthParameter('Ravi', 22, arg1='Arugment', arg2 = 'Second Arg')\n"
   ]
  },
  {
   "cell_type": "code",
   "execution_count": 36,
   "metadata": {},
   "outputs": [],
   "source": []
  },
  {
   "cell_type": "code",
   "execution_count": null,
   "metadata": {},
   "outputs": [],
   "source": []
  }
 ],
 "metadata": {
  "kernelspec": {
   "display_name": "Python 2",
   "language": "python",
   "name": "python2"
  },
  "language_info": {
   "codemirror_mode": {
    "name": "ipython",
    "version": 2
   },
   "file_extension": ".py",
   "mimetype": "text/x-python",
   "name": "python",
   "nbconvert_exporter": "python",
   "pygments_lexer": "ipython2",
   "version": "2.7.6"
  }
 },
 "nbformat": 4,
 "nbformat_minor": 0
}
