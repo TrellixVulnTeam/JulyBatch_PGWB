{
 "cells": [
  {
   "cell_type": "code",
   "execution_count": 18,
   "metadata": {
    "collapsed": true
   },
   "outputs": [
    {
     "name": "stdout",
     "output_type": "stream",
     "text": [
      "Error Occurred\n"
     ]
    }
   ],
   "source": [
    "def Division(numerator, denominator):\n",
    "    try:\n",
    "        x = 10\n",
    "        y = 'String'\n",
    "        z = x + y\n",
    "        result = numerator / denominator\n",
    "\n",
    "    except Exception:\n",
    "        print('Error Occurred')  \n",
    "        \n",
    "    except ZeroDivisionError as exp:\n",
    "        print(\"Denominator cannot be zero\")\n",
    "        print(exp.args)\n",
    "        print(exp.__traceback__.tb_frame)\n",
    "    \n",
    "    \n",
    "    \n",
    "Division(10, 0)"
   ]
  },
  {
   "cell_type": "code",
   "execution_count": 8,
   "metadata": {
    "collapsed": true
   },
   "outputs": [
    {
     "name": "stdout",
     "output_type": "stream",
     "text": [
      "10\n20\n30\n"
     ]
    },
    {
     "ename": "SystemExit",
     "evalue": "",
     "traceback": [
      "An exception has occurred, use %tb to see the full traceback.\n",
      "\u001b[1;31mSystemExit\u001b[0m\n"
     ],
     "output_type": "error"
    },
    {
     "name": "stderr",
     "output_type": "stream",
     "text": [
      "C:\\Users\\DELL\\Anaconda3\\lib\\site-packages\\IPython\\core\\interactiveshell.py:2918: UserWarning: To exit: use 'exit', 'quit', or Ctrl-D.\n  warn(\"To exit: use 'exit', 'quit', or Ctrl-D.\", stacklevel=1)\n"
     ]
    }
   ],
   "source": [
    "import sys\n",
    "\n",
    "lst = [10,20,30]\n",
    "lstIter = iter(lst)\n",
    "try:\n",
    "    print(next(lstIter))\n",
    "    print(next(lstIter))\n",
    "    print(next(lstIter))\n",
    "    print(next(lstIter))\n",
    "except StopIteration:\n",
    "    sys.exit()\n",
    "    print(\"No values found\")"
   ]
  },
  {
   "cell_type": "code",
   "execution_count": 13,
   "metadata": {},
   "outputs": [
    {
     "name": "stdout",
     "output_type": "stream",
     "text": [
      "Error Occurred :  [Errno 2] No such file or directory: 'test1.txt'\n"
     ]
    }
   ],
   "source": [
    "try:\n",
    "    foo = open('test1.txt', 'r')\n",
    "    strLine = foo.read()\n",
    "    print(strLine)\n",
    "    foo.close()\n",
    "except IOError as e:\n",
    "    print(\"Error Occurred : \", e)\n",
    "finally:\n",
    "    foo.close()"
   ]
  },
  {
   "cell_type": "code",
   "execution_count": 17,
   "metadata": {},
   "outputs": [
    {
     "name": "stdout",
     "output_type": "stream",
     "text": [
      "Error Occurred  Invalid number passed as parameter\n"
     ]
    }
   ],
   "source": [
    "def ExceptionFunction(num):\n",
    "    if(num == 0):\n",
    "        raise ArithmeticError('Invalid number passed as parameter')\n",
    "    else:\n",
    "        return 10\n",
    "    \n",
    "try:\n",
    "    print(ExceptionFunction(0))\n",
    "except ArithmeticError as ae:\n",
    "    print('Error Occurred ', ae)"
   ]
  },
  {
   "cell_type": "code",
   "execution_count": 17,
   "metadata": {},
   "outputs": [],
   "source": []
  },
  {
   "cell_type": "code",
   "execution_count": 17,
   "metadata": {},
   "outputs": [],
   "source": []
  },
  {
   "cell_type": "code",
   "execution_count": 17,
   "metadata": {},
   "outputs": [],
   "source": []
  },
  {
   "cell_type": "code",
   "execution_count": 17,
   "metadata": {},
   "outputs": [],
   "source": []
  },
  {
   "cell_type": "code",
   "execution_count": 17,
   "metadata": {},
   "outputs": [],
   "source": []
  },
  {
   "cell_type": "code",
   "execution_count": 17,
   "metadata": {},
   "outputs": [],
   "source": []
  },
  {
   "cell_type": "code",
   "execution_count": 17,
   "metadata": {},
   "outputs": [],
   "source": []
  },
  {
   "cell_type": "code",
   "execution_count": null,
   "metadata": {},
   "outputs": [],
   "source": []
  }
 ],
 "metadata": {
  "kernelspec": {
   "display_name": "Python 2",
   "language": "python",
   "name": "python2"
  },
  "language_info": {
   "codemirror_mode": {
    "name": "ipython",
    "version": 2
   },
   "file_extension": ".py",
   "mimetype": "text/x-python",
   "name": "python",
   "nbconvert_exporter": "python",
   "pygments_lexer": "ipython2",
   "version": "2.7.6"
  }
 },
 "nbformat": 4,
 "nbformat_minor": 0
}
