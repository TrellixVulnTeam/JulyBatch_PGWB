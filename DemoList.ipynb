{
 "cells": [
  {
   "cell_type": "heading",
   "metadata": {
    "collapsed": true
   },
   "level": 1,
   "source": [
    "The most basic data structure in Python is the sequence. Each element of a sequence is\n",
    "assigned a number - its position or index. The first index is zero, the second index is one,\n",
    "and so forth.\n",
    "Python has six built-in types of sequences, but the most common ones are lists and tuples,\n",
    "which we would see in this tutorial.\n",
    "There are certain things you can do with all the sequence types. These operations include\n",
    "indexing, slicing, adding, multiplying, and checking for membership. In addition, Python\n",
    "    has built-in functions for finding the length of a sequence and for finding its largest and\n",
    "smallest elements."
   ]
  },
  {
   "cell_type": "heading",
   "metadata": {},
   "level": 1,
   "source": [
    "Collections\n",
    "\n",
    "1. List\n",
    "[10,20,'welcome', 10] # Duplicates are allowed\n",
    "Mutable\n",
    "You are allowed to edit or add new values\n",
    "2. Sets\n",
    "3. Tuples\n",
    "a. (10,20,30,'Welcome')\n",
    "b. Immutable\n",
    "c. You are not allowed to modify or adding the values\n",
    "4. Dictionary\t{key:value} ==> {'d3199' : 'Kumar', 'd200' : 'Rajesh'} # Key should be unique\n",
    "\n",
    "\n",
    "\n",
    "List<int> lst = new List<int>(){10,20,30, ''}"
   ]
  },
  {
   "cell_type": "code",
   "execution_count": 5,
   "metadata": {},
   "outputs": [
    {
     "name": "stdout",
     "output_type": "stream",
     "text": [
      "First Position value  10\nslice 0 to 2 [10, 20]\nModified zero'th position :  ['Test', 20, 30, 'Python', 10]\n['Test', 20, 30, 'Python', 10, 'Test', 20, 30, 'Python', 10]\n['Test', 20, 30, 'Python', 10, 90, 70]\n"
     ]
    },
    {
     "ename": "NameError",
     "evalue": "name 'lstVar' is not defined",
     "traceback": [
      "\u001b[1;31m---------------------------------------------------------------------------\u001b[0m",
      "\u001b[1;31mNameError\u001b[0m                                 Traceback (most recent call last)",
      "\u001b[1;32m<ipython-input-5-441297b3f7bd>\u001b[0m in \u001b[0;36m<module>\u001b[1;34m()\u001b[0m\n\u001b[0;32m      9\u001b[0m \u001b[1;33m\u001b[0m\u001b[0m\n\u001b[0;32m     10\u001b[0m \u001b[1;32mdel\u001b[0m \u001b[0mlstVar\u001b[0m\u001b[1;33m\u001b[0m\u001b[0m\n\u001b[1;32m---> 11\u001b[1;33m \u001b[0mprint\u001b[0m\u001b[1;33m(\u001b[0m\u001b[0mlstVar\u001b[0m\u001b[1;33m)\u001b[0m\u001b[1;33m\u001b[0m\u001b[0m\n\u001b[0m",
      "\u001b[1;31mNameError\u001b[0m: name 'lstVar' is not defined"
     ],
     "output_type": "error"
    }
   ],
   "source": [
    "lstVar = [10, 20, 30, 'Python', 10]\n",
    "lstVar2 = [90,70]\n",
    "print(\"First Position value \",lstVar[0])\n",
    "print('slice 0 to 2', lstVar[:2])\n",
    "lstVar[0] = 'Test'\n",
    "print(\"Modified zero'th position : \", lstVar)\n",
    "print(lstVar * 2)\n",
    "print(lstVar + lstVar2)\n",
    "\n",
    "del lstVar\n",
    "print(lstVar)\n"
   ]
  },
  {
   "cell_type": "code",
   "execution_count": 19,
   "metadata": {
    "collapsed": false
   },
   "outputs": [
    {
     "name": "stdout",
     "output_type": "stream",
     "text": [
      "[10, 20, 5, 12, 'Python', 10]\n[10, 20, 5, 12, 'Python', 10, 'New Value']\n[10, 20, 5, 12, 'Python', 10, 'New Value', 'Session']\n[10, 20, 5, 12, 'Python', 10, 'New Value', 'Session', '8th Position']\nList Count :  2\nItems :  9\nIndex of list :  4\nPOP :  8th Position\n[10, 20, 5, 12, 'Python', 10, 'New Value', 'Session']\n"
     ]
    }
   ],
   "source": [
    "lstVar = [10,20,5, 12, 'Python', 10]\n",
    "print(lstVar)\n",
    "lstVar.append('New Value')\n",
    "print(lstVar)\n",
    "lstVar.insert(9, 'Session')\n",
    "print(lstVar)\n",
    "lstVar.insert(8, \"8th Position\")\n",
    "print(lstVar)\n",
    "\n",
    "print(\"List Count : \", lstVar.count(10))\n",
    "print(\"Items : \", len(lstVar))\n",
    "print(\"Index of list : \", lstVar.index('Python'))\n",
    "#Removes and returns last object or obj from list\n",
    "print(\"POP : \", lstVar.pop())\n",
    "print(lstVar)\n"
   ]
  },
  {
   "cell_type": "heading",
   "metadata": {},
   "level": 1,
   "source": [
    "list.remove(obj)\n",
    "Removes object obj from list"
   ]
  },
  {
   "cell_type": "code",
   "execution_count": 21,
   "metadata": {},
   "outputs": [
    {
     "name": "stdout",
     "output_type": "stream",
     "text": [
      "[10, 20, 5, 'Python', 10]\n"
     ]
    }
   ],
   "source": [
    "lstVar = [10,20,5, 12, 'Python', 10]\n",
    "lstVar.remove(12)\n",
    "print(lstVar)\n"
   ]
  },
  {
   "cell_type": "code",
   "execution_count": 30,
   "metadata": {},
   "outputs": [
    {
     "name": "stdout",
     "output_type": "stream",
     "text": [
      "30\n"
     ]
    },
    {
     "data": {
      "text/plain": [
       "50"
      ]
     },
     "execution_count": 30,
     "metadata": {},
     "output_type": "execute_result"
    }
   ],
   "source": [
    "def Add(a, b):\n",
    "    c = a + b\n",
    "    return c\n",
    "\n",
    "print(Add(10, 20))\n",
    "Add(20, 30)"
   ]
  },
  {
   "cell_type": "code",
   "execution_count": 27,
   "metadata": {},
   "outputs": [
    {
     "ename": "TypeError",
     "evalue": "Add() takes 0 positional arguments but 2 were given",
     "traceback": [
      "\u001b[1;31m---------------------------------------------------------------------------\u001b[0m",
      "\u001b[1;31mTypeError\u001b[0m                                 Traceback (most recent call last)",
      "\u001b[1;32m<ipython-input-27-dba00c4270d6>\u001b[0m in \u001b[0;36m<module>\u001b[1;34m()\u001b[0m\n\u001b[1;32m----> 1\u001b[1;33m \u001b[0mAdd\u001b[0m\u001b[1;33m(\u001b[0m\u001b[1;36m40\u001b[0m\u001b[1;33m,\u001b[0m\u001b[1;36m60\u001b[0m\u001b[1;33m)\u001b[0m\u001b[1;33m\u001b[0m\u001b[0m\n\u001b[0m",
      "\u001b[1;31mTypeError\u001b[0m: Add() takes 0 positional arguments but 2 were given"
     ],
     "output_type": "error"
    }
   ],
   "source": [
    "Add(40,60)"
   ]
  },
  {
   "cell_type": "heading",
   "metadata": {},
   "level": 1,
   "source": [
    "list.reverse()\n",
    "Reverses objects of list in place"
   ]
  },
  {
   "cell_type": "code",
   "execution_count": 33,
   "metadata": {},
   "outputs": [
    {
     "name": "stdout",
     "output_type": "stream",
     "text": [
      "[10, 'Python', 12, 5, 20, 10]\n"
     ]
    }
   ],
   "source": [
    "lstVar = [10,20,5, 12, 'Python', 10]\n",
    "lstVar.reverse()\n",
    "print(lstVar)"
   ]
  },
  {
   "cell_type": "heading",
   "metadata": {},
   "level": 1,
   "source": [
    "list.sort([func])\n",
    "Sorts objects of list, use compare func if given"
   ]
  },
  {
   "cell_type": "code",
   "execution_count": 38,
   "metadata": {},
   "outputs": [
    {
     "name": "stdout",
     "output_type": "stream",
     "text": [
      "[5, 10, 10, 12, 20]\n"
     ]
    }
   ],
   "source": [
    "lstVar = [10,20,5, 12, 10]\n",
    "lstVar.sort()\n",
    "print(lstVar)\n"
   ]
  },
  {
   "cell_type": "code",
   "execution_count": null,
   "metadata": {},
   "outputs": [],
   "source": [
    "x = 10\n",
    "y = 20\n",
    "temp = 0"
   ]
  }
 ],
 "metadata": {
  "kernelspec": {
   "display_name": "Python 2",
   "language": "python",
   "name": "python2"
  },
  "language_info": {
   "codemirror_mode": {
    "name": "ipython",
    "version": 2
   },
   "file_extension": ".py",
   "mimetype": "text/x-python",
   "name": "python",
   "nbconvert_exporter": "python",
   "pygments_lexer": "ipython2",
   "version": "2.7.6"
  }
 },
 "nbformat": 4,
 "nbformat_minor": 0
}
