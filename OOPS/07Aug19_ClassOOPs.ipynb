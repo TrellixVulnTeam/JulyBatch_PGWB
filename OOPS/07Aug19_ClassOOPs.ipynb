{
 "cells": [
  {
   "cell_type": "markdown",
   "metadata": {
    "collapsed": true
   },
   "source": [
    "Class: A user-defined prototype for an object that defines a set of attributes that\n",
    "characterize any object of the class. The attributes are data members (class\n",
    "    variables and instance variables) and methods, accessed via dot notation.\n",
    " Class variable: A variable that is shared by all instances of a class. Class variables\n",
    "are defined within a class but outside any of the class's methods. Class variables\n",
    "are not used as frequently as instance variables are.\n",
    " Data member: A class variable or instance variable that holds data associated with\n",
    "a class and its objects.\n",
    " Function overloading: The assignment of more than one behavior to a particular\n",
    "function. The operation performed varies by the types of objects or arguments\n",
    "involved.\n",
    " Instance variable: A variable that is defined inside a method and belongs only to\n",
    "the current instance of a class.\n",
    "     Inheritance: The transfer of the characteristics of a class to other classes that are\n",
    "derived from it.\n",
    " Instance: An individual object of a certain class. An object obj that belongs to a\n",
    "class Circle, for example, is an instance of the class Circle.\n",
    " Instantiation: The creation of an instance of a class.\n",
    "     Method : A special kind of function that is defined in a class definition.\n",
    " Object: A unique instance of a data structure that is defined by its class. An object\n",
    "comprises both data members (class variables and instance variables) and\n",
    "methods.\n",
    " Operator overloading: The assignment of more than one function to a particular\n",
    "operator."
   ]
  },
  {
   "cell_type": "code",
   "execution_count": 19,
   "metadata": {
    "collapsed": false
   },
   "outputs": [
    {
     "name": "stdout",
     "output_type": "stream",
     "text": [
      "Employee Count :  1\nEmployee Name is : Pragim, Salary : 100000\nEmployee Count :  2\nEmployee Name is : Rajesh, Salary : 123400\n****************************************************************************************************\nDictionary {'__module__': '__main__', '__doc__': 'An employee class with CRUD', 'employeeCount': 2, '__init__': <function employee.__init__ at 0x000002336C274400>, 'EmployeeCount': <function employee.EmployeeCount at 0x000002336C282BF8>, 'EmployeeDetails': <function employee.EmployeeDetails at 0x000002336C2821E0>, '__dict__': <attribute '__dict__' of 'employee' objects>, '__weakref__': <attribute '__weakref__' of 'employee' objects>}\nDoc An employee class with CRUD\nName :  employee\nBase class  (<class 'object'>,)\nModule Name :  __main__\n"
     ]
    }
   ],
   "source": [
    "\n",
    "class employee:\n",
    "    'An employee class with CRUD'  # Comments\n",
    "    \n",
    "    employeeCount = 0 # Class Variable\n",
    "    \n",
    "    def __init__(self, name, salary): # Constructor\n",
    "        self.name = name            # Instance Variable\n",
    "        self.salary = salary        # Instance Variable\n",
    "        employee.employeeCount += 1 # Increment Class Variable\n",
    "        \n",
    "    def EmployeeCount(self): # Methods\n",
    "        print(\"Employee Count : \", employee.employeeCount)\n",
    "        \n",
    "    def EmployeeDetails(self):\n",
    "        print(\"Employee Name is : {}, Salary : {}\".format(self.name, self.salary))\n",
    "\n",
    "emp1 = employee('Pragim', 100000)\n",
    "emp1.EmployeeCount()\n",
    "emp1.EmployeeDetails()\n",
    "\n",
    "emp2 = employee('Rajesh', 123400)\n",
    "emp2.EmployeeCount()\n",
    "emp2.EmployeeDetails() \n",
    "\n",
    "if hasattr(emp1, 'salary1'):\n",
    "    setattr(emp1, 'salary', 203948)\n",
    "    print(getattr(emp1, 'salary'))\n",
    "    delattr(emp1, 'salary')\n",
    "    print(getattr(emp1, 'salary'))\n",
    "\n",
    "print('*' * 100)\n",
    "print(\"Dictionary\", employee.__dict__)\n",
    "print('Doc', employee.__doc__)\n",
    "print('Name : ',employee.__name__)\n",
    "print('Base class ', employee.__bases__)\n",
    "print('Module Name : ', employee.__module__)\n",
    "\n",
    "print('Name : ',employee.__name__)\n",
    "print('Base class ', employee.__bases__)\n",
    "print('Module Name : ', employee.__module__)\n"
   ]
  },
  {
   "cell_type": "code",
   "execution_count": 22,
   "metadata": {
    "collapsed": true
   },
   "outputs": [
    {
     "name": "stdout",
     "output_type": "stream",
     "text": [
      "Document :  This module is always available.  It provides access to the\nmathematical functions defined by the C standard.\nDictionary :  {'__name__': 'math', '__doc__': 'This module is always available.  It provides access to the\\nmathematical functions defined by the C standard.', '__package__': '', '__loader__': <class '_frozen_importlib.BuiltinImporter'>, '__spec__': ModuleSpec(name='math', loader=<class '_frozen_importlib.BuiltinImporter'>, origin='built-in'), 'acos': <built-in function acos>, 'acosh': <built-in function acosh>, 'asin': <built-in function asin>, 'asinh': <built-in function asinh>, 'atan': <built-in function atan>, 'atan2': <built-in function atan2>, 'atanh': <built-in function atanh>, 'ceil': <built-in function ceil>, 'copysign': <built-in function copysign>, 'cos': <built-in function cos>, 'cosh': <built-in function cosh>, 'degrees': <built-in function degrees>, 'erf': <built-in function erf>, 'erfc': <built-in function erfc>, 'exp': <built-in function exp>, 'expm1': <built-in function expm1>, 'fabs': <built-in function fabs>, 'factorial': <built-in function factorial>, 'floor': <built-in function floor>, 'fmod': <built-in function fmod>, 'frexp': <built-in function frexp>, 'fsum': <built-in function fsum>, 'gamma': <built-in function gamma>, 'gcd': <built-in function gcd>, 'hypot': <built-in function hypot>, 'isclose': <built-in function isclose>, 'isfinite': <built-in function isfinite>, 'isinf': <built-in function isinf>, 'isnan': <built-in function isnan>, 'ldexp': <built-in function ldexp>, 'lgamma': <built-in function lgamma>, 'log': <built-in function log>, 'log1p': <built-in function log1p>, 'log10': <built-in function log10>, 'log2': <built-in function log2>, 'modf': <built-in function modf>, 'pow': <built-in function pow>, 'radians': <built-in function radians>, 'sin': <built-in function sin>, 'sinh': <built-in function sinh>, 'sqrt': <built-in function sqrt>, 'tan': <built-in function tan>, 'tanh': <built-in function tanh>, 'trunc': <built-in function trunc>, 'pi': 3.141592653589793, 'e': 2.718281828459045, 'tau': 6.283185307179586, 'inf': inf, 'nan': nan}\n"
     ]
    }
   ],
   "source": [
    "import math\n",
    "\n",
    "print('Document : ', math.__doc__)\n",
    "print('Dictionary : ', math.__dict__)"
   ]
  },
  {
   "cell_type": "code",
   "execution_count": 22,
   "metadata": {},
   "outputs": [],
   "source": []
  },
  {
   "cell_type": "code",
   "execution_count": null,
   "metadata": {},
   "outputs": [],
   "source": []
  }
 ],
 "metadata": {
  "kernelspec": {
   "display_name": "Python 2",
   "language": "python",
   "name": "python2"
  },
  "language_info": {
   "codemirror_mode": {
    "name": "ipython",
    "version": 2
   },
   "file_extension": ".py",
   "mimetype": "text/x-python",
   "name": "python",
   "nbconvert_exporter": "python",
   "pygments_lexer": "ipython2",
   "version": "2.7.6"
  }
 },
 "nbformat": 4,
 "nbformat_minor": 0
}
