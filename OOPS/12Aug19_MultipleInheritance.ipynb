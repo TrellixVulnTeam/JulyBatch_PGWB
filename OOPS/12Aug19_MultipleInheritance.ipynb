{
 "cells": [
  {
   "cell_type": "code",
   "execution_count": null,
   "metadata": {
    "collapsed": true
   },
   "outputs": [],
   "source": [
    "class Parent1:\n",
    "    \n",
    "    def Singer(self):\n",
    "        print('I am a Singer => Parent1')\n",
    "        \n",
    "class Parent2:\n",
    "    \n",
    "    def Artist(self):\n",
    "        print('I am a Artist => Parent2')\n",
    "        \n",
    "class Child(Parent1, Parent2):\n",
    "\n",
    "    def Athlet(self):\n",
    "        print('I am a Athlet => Child')\n",
    "\n",
    "ch = Child()\n",
    "ch.Athlet()\n",
    "ch.Artist()\n",
    "ch.Singer()        "
   ]
  }
 ],
 "metadata": {
  "kernelspec": {
   "display_name": "Python 2",
   "language": "python",
   "name": "python2"
  },
  "language_info": {
   "codemirror_mode": {
    "name": "ipython",
    "version": 2
   },
   "file_extension": ".py",
   "mimetype": "text/x-python",
   "name": "python",
   "nbconvert_exporter": "python",
   "pygments_lexer": "ipython2",
   "version": "2.7.6"
  }
 },
 "nbformat": 4,
 "nbformat_minor": 0
}
