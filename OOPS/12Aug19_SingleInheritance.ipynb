{
 "cells": [
  {
   "cell_type": "markdown",
   "metadata": {
    "collapsed": true
   },
   "source": [
    "Instead of starting from a scratch, you can create a class by deriving it from a pre-existing\n",
    "class by listing the parent class in parentheses after the new class name.\n",
    "The child class inherits the attributes of its parent class, and you can use those attributes\n",
    "as if they were defined in the child class. A child class can also override data members and\n",
    "methods from the parent."
   ]
  },
  {
   "cell_type": "code",
   "execution_count": null,
   "metadata": {},
   "outputs": [],
   "source": [
    "class Parent:\n",
    "    'Parent Class'\n",
    "    \n",
    "    def Singer(self):\n",
    "        print('I am a singer - Father')\n",
    "    def Artist(self):\n",
    "        print('I am an artist')\n",
    "        \n",
    "class Child(Parent):\n",
    "    'Child Class which is inherting the parent'\n",
    "    \n",
    "    def Athlet(self):\n",
    "        print('I am an Athlet')\n",
    "    def Dancer(self):\n",
    "        print('I am a Dancer')\n",
    "\n",
    "# Creating an object of Parent\n",
    "par = Parent()\n",
    "par.Artist()\n",
    "par.Singer()\n",
    "\n",
    "# Creating an object of chile\n",
    "ch = Child()\n",
    "ch.Singer()\n",
    "ch.Artist()\n",
    "ch.Athlet()\n",
    "ch.Dancer()"
   ]
  },
  {
   "cell_type": "code",
   "execution_count": null,
   "metadata": {},
   "outputs": [],
   "source": [
    "class Parent:\n",
    "    'Parent Class'\n",
    "\n",
    "    def Singer(self):\n",
    "        print('I am a singer - Father')\n",
    "    def Artist(self):\n",
    "        print('I am an artist')\n",
    "\n",
    "class Child(Parent):\n",
    "    'Child Class which is inherting the parent'\n",
    "\n",
    "    def Athlet(self):\n",
    "        Singer()\n",
    "        print('I am an Athlet')\n",
    "    def Dancer(self):\n",
    "        print('I am a Dancer')\n",
    "\n",
    "# Creating an object of Parent\n",
    "par = Parent()\n",
    "par.Artist()\n",
    "par.Singer()\n",
    "\n",
    "# Creating an object of chile\n",
    "ch = Child()\n",
    "# ch.Singer()\n",
    "# ch.Artist()\n",
    "ch.Athlet()\n",
    "ch.Dancer()"
   ]
  }
 ],
 "metadata": {
  "kernelspec": {
   "display_name": "Python 2",
   "language": "python",
   "name": "python2"
  },
  "language_info": {
   "codemirror_mode": {
    "name": "ipython",
    "version": 2
   },
   "file_extension": ".py",
   "mimetype": "text/x-python",
   "name": "python",
   "nbconvert_exporter": "python",
   "pygments_lexer": "ipython2",
   "version": "2.7.6"
  }
 },
 "nbformat": 4,
 "nbformat_minor": 0
}
