{
 "cells": [
  {
   "cell_type": "code",
   "execution_count": null,
   "metadata": {
    "collapsed": true
   },
   "outputs": [],
   "source": [
    "class Calculator:\n",
    "    \n",
    "    def Add(self, a, b):\n",
    "        print('Sum is : ', a + b)\n",
    "\n",
    "    def Sub(self, a, b):\n",
    "        print('Sub is : ', a - b)\n",
    "\n",
    "    def Mul(self, a, b):\n",
    "        print('Mul is : ', a * b)\n",
    "\n",
    "    def Div(self, a, b):\n",
    "        print('Div is : ', a / b)\n",
    "\n",
    "class ScientificCalculator(Calculator):\n",
    "\n",
    "    def Sin(self, a):\n",
    "        print('Sin Value is : ', a)\n",
    "\n",
    "    def Cos(self, a):\n",
    "        print('Cos Value is : ', a)\n",
    "        \n",
    "calc = Calculator()\n",
    "calc.Add()\n",
    "calc.Sub()\n",
    "calc.Mul()\n",
    "calc.Div()\n",
    "\n",
    "print('* ' * 70)\n",
    "\n",
    "sCalc = ScientificCalculator()\n",
    "sCalc.Add()\n",
    "sCalc.Sub()\n",
    "sCalc.Mul()\n",
    "sCalc.Div()\n",
    "sCalc.Sin()\n",
    "sCalc.Cos()"
   ]
  }
 ],
 "metadata": {
  "kernelspec": {
   "display_name": "Python 2",
   "language": "python",
   "name": "python2"
  },
  "language_info": {
   "codemirror_mode": {
    "name": "ipython",
    "version": 2
   },
   "file_extension": ".py",
   "mimetype": "text/x-python",
   "name": "python",
   "nbconvert_exporter": "python",
   "pygments_lexer": "ipython2",
   "version": "2.7.6"
  }
 },
 "nbformat": 4,
 "nbformat_minor": 0
}
