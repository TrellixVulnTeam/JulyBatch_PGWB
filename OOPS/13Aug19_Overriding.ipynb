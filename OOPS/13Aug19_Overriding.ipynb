{
 "cells": [
  {
   "cell_type": "code",
   "execution_count": null,
   "metadata": {
    "collapsed": true
   },
   "outputs": [],
   "source": [
    "class Parent:\n",
    "    \n",
    "    def __init__(self):\n",
    "        print('Parent Constructor')\n",
    "        \n",
    "    def Singer(self):\n",
    "        print('I am not a professional singer')\n",
    "    \n",
    "class Child(Parent):\n",
    "\n",
    "    def __init__(self):\n",
    "        print('Parent Constructor')\n",
    "\n",
    "    def Singer(self):\n",
    "        print('I am a professional singer')\n",
    "\n",
    "ch = Child()\n",
    "ch.Singer()\n",
    "    \n",
    "    "
   ]
  }
 ],
 "metadata": {
  "kernelspec": {
   "display_name": "Python 2",
   "language": "python",
   "name": "python2"
  },
  "language_info": {
   "codemirror_mode": {
    "name": "ipython",
    "version": 2
   },
   "file_extension": ".py",
   "mimetype": "text/x-python",
   "name": "python",
   "nbconvert_exporter": "python",
   "pygments_lexer": "ipython2",
   "version": "2.7.6"
  }
 },
 "nbformat": 4,
 "nbformat_minor": 0
}
