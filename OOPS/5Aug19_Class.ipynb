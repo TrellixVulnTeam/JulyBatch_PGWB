{
 "cells": [
  {
   "cell_type": "code",
   "execution_count": 4,
   "metadata": {
    "collapsed": true
   },
   "outputs": [
    {
     "name": "stdout",
     "output_type": "stream",
     "text": [
      "The sum is :  30\nThe sum is :  50\nThe sum is :  90\nThe sum is :  50\n"
     ]
    }
   ],
   "source": [
    "class Calculator:\n",
    "    \n",
    "    result = 0 # Class Variable or Static Variable\n",
    "    \n",
    "    def Add(self, a, b):\n",
    "        Calculator.result = a + b\n",
    "        print(\"The sum is : \", c)\n",
    "\n",
    "    def Sub(self, a, b):\n",
    "        Calculator.result = a - b\n",
    "        print(\"The sub is : \", c)\n",
    "\n",
    "    def Mul(self, a, b):\n",
    "        Calculator.result = a * b\n",
    "        print(\"The Mul is : \", c)\n",
    "    \n",
    "calc = Calculator()\n",
    "calc.Add(10,20)\n",
    "calc.Add(20,30)\n",
    "calc.Add(40,50)\n",
    "\n",
    "cal = Calculator()\n",
    "cal.Add(20,30)"
   ]
  },
  {
   "cell_type": "code",
   "execution_count": null,
   "metadata": {},
   "outputs": [],
   "source": []
  }
 ],
 "metadata": {
  "kernelspec": {
   "display_name": "Python 2",
   "language": "python",
   "name": "python2"
  },
  "language_info": {
   "codemirror_mode": {
    "name": "ipython",
    "version": 2
   },
   "file_extension": ".py",
   "mimetype": "text/x-python",
   "name": "python",
   "nbconvert_exporter": "python",
   "pygments_lexer": "ipython2",
   "version": "2.7.6"
  }
 },
 "nbformat": 4,
 "nbformat_minor": 0
}
