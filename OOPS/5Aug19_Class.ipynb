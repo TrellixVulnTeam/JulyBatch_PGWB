{
 "cells": [
  {
   "cell_type": "code",
   "execution_count": 4,
   "metadata": {
    "collapsed": true
   },
   "outputs": [
    {
     "name": "stdout",
     "output_type": "stream",
     "text": [
      "The sum is :  30\nThe sum is :  50\nThe sum is :  90\nThe sum is :  50\n"
     ]
    }
   ],
   "source": [
    "class Calculator:\n",
    "    \n",
    "    result = 0 # Class Variable or Static Variable\n",
    "    \n",
    "    def Add(self, a, b):\n",
    "        Calculator.result = a + b\n",
    "        print(\"The sum is : \", c)\n",
    "\n",
    "    def Sub(self, a, b):\n",
    "        Calculator.result = a - b\n",
    "        print(\"The sub is : \", c)\n",
    "\n",
    "    def Mul(self, a, b):\n",
    "        Calculator.result = a * b\n",
    "        print(\"The Mul is : \", c)\n",
    "    \n",
    "calc = Calculator()\n",
    "calc.Add(10,20)\n",
    "calc.Add(20,30)\n",
    "calc.Add(40,50)\n",
    "\n",
    "cal = Calculator()\n",
    "cal.Add(20,30)"
   ]
  },
  {
   "cell_type": "code",
   "execution_count": 6,
   "metadata": {},
   "outputs": [
    {
     "name": "stdout",
     "output_type": "stream",
     "text": [
      "The sum is :  30\n"
     ]
    },
    {
     "ename": "AttributeError",
     "evalue": "'Calculator' object has no attribute 'Sub'",
     "traceback": [
      "\u001b[1;31m---------------------------------------------------------------------------\u001b[0m",
      "\u001b[1;31mAttributeError\u001b[0m                            Traceback (most recent call last)",
      "\u001b[1;32m<ipython-input-6-337550f9b343>\u001b[0m in \u001b[0;36m<module>\u001b[1;34m()\u001b[0m\n\u001b[0;32m     20\u001b[0m \u001b[0mcalc\u001b[0m \u001b[1;33m=\u001b[0m \u001b[0mCalculator\u001b[0m\u001b[1;33m(\u001b[0m\u001b[1;33m)\u001b[0m\u001b[1;33m\u001b[0m\u001b[0m\n\u001b[0;32m     21\u001b[0m \u001b[0mcalc\u001b[0m\u001b[1;33m.\u001b[0m\u001b[0mAdd\u001b[0m\u001b[1;33m(\u001b[0m\u001b[1;36m20\u001b[0m\u001b[1;33m,\u001b[0m\u001b[1;36m10\u001b[0m\u001b[1;33m)\u001b[0m\u001b[1;33m\u001b[0m\u001b[0m\n\u001b[1;32m---> 22\u001b[1;33m \u001b[0mcalc\u001b[0m\u001b[1;33m.\u001b[0m\u001b[0mSub\u001b[0m\u001b[1;33m(\u001b[0m\u001b[1;36m20\u001b[0m\u001b[1;33m,\u001b[0m\u001b[1;36m10\u001b[0m\u001b[1;33m)\u001b[0m\u001b[1;33m\u001b[0m\u001b[0m\n\u001b[0m\u001b[0;32m     23\u001b[0m \u001b[0mcalc\u001b[0m\u001b[1;33m.\u001b[0m\u001b[0mMul\u001b[0m\u001b[1;33m(\u001b[0m\u001b[1;36m20\u001b[0m\u001b[1;33m,\u001b[0m\u001b[1;36m10\u001b[0m\u001b[1;33m)\u001b[0m\u001b[1;33m\u001b[0m\u001b[0m\n\u001b[0;32m     24\u001b[0m \u001b[0mcalc\u001b[0m\u001b[1;33m.\u001b[0m\u001b[0mDiv\u001b[0m\u001b[1;33m(\u001b[0m\u001b[1;36m20\u001b[0m\u001b[1;33m,\u001b[0m\u001b[1;36m10\u001b[0m\u001b[1;33m)\u001b[0m\u001b[1;33m\u001b[0m\u001b[0m\n",
      "\u001b[1;31mAttributeError\u001b[0m: 'Calculator' object has no attribute 'Sub'"
     ],
     "output_type": "error"
    }
   ],
   "source": [
    "class Calculaltor:\n",
    "    \n",
    "    def Add(self, a, b):\n",
    "        c = a + b\n",
    "        print('The sum is :', c)\n",
    "\n",
    "    def Sub(self, a, b):\n",
    "        c = a - b\n",
    "        print('The Sub is :', c)\n",
    "\n",
    "    def Mul(self, a, b):\n",
    "        c = a * b\n",
    "        print('The Mul is :', c)\n",
    "\n",
    "    def Div(self, a, b):\n",
    "        c = a / b\n",
    "        print('The Div is :', c)\n",
    "\n",
    "\n",
    "calc = Calculator()\n",
    "calc.Add(20,10)\n",
    "calc.Sub(20,10)\n",
    "calc.Mul(20,10)\n",
    "calc.Div(20,10)"
   ]
  },
  {
   "cell_type": "code",
   "execution_count": null,
   "metadata": {},
   "outputs": [],
   "source": []
  }
 ],
 "metadata": {
  "kernelspec": {
   "display_name": "Python 2",
   "language": "python",
   "name": "python2"
  },
  "language_info": {
   "codemirror_mode": {
    "name": "ipython",
    "version": 2
   },
   "file_extension": ".py",
   "mimetype": "text/x-python",
   "name": "python",
   "nbconvert_exporter": "python",
   "pygments_lexer": "ipython2",
   "version": "2.7.6"
  }
 },
 "nbformat": 4,
 "nbformat_minor": 0
}
